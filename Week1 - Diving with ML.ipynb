{
  "cells": [
    {
      "cell_type": "markdown",
      "metadata": {
        "id": "lORIgnt_yoZD"
      },
      "source": [
        "# **Week 1 : Linear Algebra and Calculus**\n",
        "\n",
        "In this assignment, we shall explore the concepts of analytic and numeric computation of gradients. Further, we will have a look at the computation graph which is a central concept to building a neural network. For learning how gradients are computed analytically, refer to the resources provided in this week."
      ]
    },
    {
      "cell_type": "markdown",
      "metadata": {
        "id": "I-z3YLRv1U_a"
      },
      "source": [
        "<img src=\"https://encrypted-tbn0.gstatic.com/images?q=tbn:ANd9GcQWsYeD8ZlYxFBB33qIn7bwQvP-KuvLZXJOoA&usqp=CAU\"\n",
        " style=\"float:center;width:50px;height:50px;\">"
      ]
    },
    {
      "cell_type": "markdown",
      "metadata": {
        "id": "nn_1mKR02Swb"
      },
      "source": [
        "# **Importing Libraries**\n",
        "Feel free to import any additional libraries required"
      ]
    },
    {
      "cell_type": "code",
      "execution_count": null,
      "metadata": {
        "id": "ugD-twoX2T4N"
      },
      "outputs": [],
      "source": [
        "import numpy as np\n",
        "import random\n",
        "import math"
      ]
    },
    {
      "cell_type": "markdown",
      "metadata": {
        "id": "LBmB8rFN2XT7"
      },
      "source": [
        "# *Problem 1(a)*\n",
        "\n",
        "In this problem, we shall be exploring the concepts of analytic and numeric computation of gradients for scalar valued functions. \n",
        "\n",
        "\\begin{equation}\n",
        "z = w^{T}x + b \\\\ \n",
        "\\hat{y} = \\sigma(z) = \\frac{1}{1+e^{-z}}\\\\ \n",
        "L(\\hat{y}, y) = y.log(\\hat{y}) + (1-y).log(1-\\hat{y})\n",
        "\\end{equation}\n",
        "\n",
        "For this set of equations, the vector w, and scalars b, y are to be treated as constants. \\\\\n",
        "\n",
        "Now, let us find the analytic gradient of the function L with respect to the function x. That is, compute $\\frac{\\delta L}{\\delta x}$. Write the answer obtained as code in the function provided."
      ]
    },
    {
      "cell_type": "markdown",
      "metadata": {
        "id": "qC-5BMVs-abp"
      },
      "source": [
        "Initialise $w$ to a $10 \\times 1$ vector sampled over a standard multivariate gaussian distribution, b to a uniform random variable over the interval $(0, 1)$, y to a bernoulli random variable over $\\{0, 1\\}$"
      ]
    },
    {
      "cell_type": "code",
      "execution_count": null,
      "metadata": {
        "id": "1z1FuiZn-mg1"
      },
      "outputs": [],
      "source": [
        "w = np.random.normal(size=(10, 1))\n",
        "b = random.random()\n",
        "y = random.choice([0,1])"
      ]
    },
    {
      "cell_type": "code",
      "execution_count": null,
      "metadata": {
        "id": "rhgmU3v-6jhd"
      },
      "outputs": [],
      "source": [
        "def analytic_grad(x) : \n",
        "\n",
        "    z = np.sum(np.dot(w.T, x)) + b\n",
        "    k = 1/(1+math.exp(-z))\n",
        "    dz = np.sum(w)\n",
        "    result = dz*(y-k)\n",
        "    return result\n",
        "\n",
        "x = np.random.normal(size=(10,1))"
      ]
    },
    {
      "cell_type": "markdown",
      "metadata": {
        "id": "YjAm_AKN7Qk-"
      },
      "source": [
        "# *Problem 1(b)*\n",
        "\n",
        "Now, we compute the numeric gradient for the function L. Refer to [this](https://stackoverflow.com/questions/38854363/is-there-any-standard-way-to-calculate-the-numerical-gradient) stack exchange post to see how numeric gradients are computed"
      ]
    },
    {
      "cell_type": "code",
      "execution_count": null,
      "metadata": {
        "id": "Ur4CfvOf7YeR"
      },
      "outputs": [],
      "source": [
        "def numeric_grad(x) : \n",
        "\n",
        "    z = lambda x : np.sum(np.matmul(w.T, x)) + b\n",
        "    _y = lambda z : 1/(1+math.exp(-z))\n",
        "    L = lambda _y :  y*math.log(_y, math.e) + (1-y)*math.log(1-_y, math.e)\n",
        "    eps = math.exp(-15)\n",
        "    \n",
        "    num_grad = (L(_y(z(x+eps))) - L(_y(z(x))))/(eps)\n",
        "    return num_grad\n"
      ]
    },
    {
      "cell_type": "markdown",
      "metadata": {
        "id": "MwJI9VYhLjCi"
      },
      "source": [
        "# *Problem 2*\n",
        "\n",
        "Here, we'll be looking at computational graphs, and their calculus, finding gradients of  variables with respect to other variables in the graph.\n",
        "\n"
      ]
    },
    {
      "cell_type": "markdown",
      "metadata": {
        "id": "0wwEXqQEREOH"
      },
      "source": [
        "We'll be looking at nodes of the graph that are operation based, i.e., each operation performed has a node associated with it.\n",
        "\n",
        "We'll provide you with example implementations for three of the nodes, the *add* node, the *nth power* node and the *sine* node, you'll have to write the classes for all the other nodes."
      ]
    },
    {
      "cell_type": "markdown",
      "metadata": {
        "id": "YIeEOTBytyGB"
      },
      "source": [
        "# **Multi-input nodes**"
      ]
    },
    {
      "cell_type": "code",
      "execution_count": null,
      "metadata": {
        "id": "JQuHj5IctK4N"
      },
      "outputs": [],
      "source": [
        "class Add: \n",
        "  \n",
        "  # A class to add multiple variables together\n",
        "  def __init__(self, lst_names, lst_values):\n",
        "    self.lst_names = lst_names # This numpy arr contains all the variable names that are to be added, with each variable name in datatype str.\n",
        "                               # Scalar addition is taken care of in a separate node, we could have fit into this node but thought it might be easier if it wasn't.\n",
        "                               # So cases like \"a + 1\" are to be done separately, and cases like \"b + c + d + 4\" can be done as \"(b + c + d) + 4\" or \"b + c + (d + 4)\", since our scalar addition supports only one variable and one scalar, we'll get to that later\n",
        "    self.lst_values = lst_values # This numpy arr contains all the variable values that are to be added, as scalars.\n",
        "\n",
        "  def compute_output(self):\n",
        "    return np.sum(self.lst_values) # This computes the sum of all the variables\n",
        "  \n",
        "  def compute_gradients(self):\n",
        "    return dict(zip(self.lst_names, np.ones(len(self.lst_names)))) # This gives the gradient of the sum wrt to all the input variables, as a dictionary, will be used later\n",
        "\n",
        "\n",
        "class Multiply: \n",
        "  \n",
        "  #Everything's almost the same as the add class, but this deals with multiplication of more than 1 variables\n",
        "  def __init__(self, lst_names, lst_values):\n",
        "    self.lst_names = lst_names # This numpy arr contains all the variable names that are to be multiplied, with each variable name in datatype str.\n",
        "                               # Scalar multiplication is taken care of in a separate node\n",
        "    self.lst_values = lst_values # This numpy arr contains all the variable values that are to be multiplied, as scalars.\n",
        "\n",
        "  def compute_output(self):\n",
        "    # Code to compute the output of this operation\n",
        "    return np.prod(self.lst_values)\n",
        "  \n",
        "  def compute_gradients(self):\n",
        "    # Code to create a dictionary, storing all the gradients of the output wrt to each input (In this case there is only a single input that matters)\n",
        "    arr_prod = [self.compute_output() for i in range(len(self.lst_values))]\n",
        "    arr_prod = np.divide(arr_prod, self.lst_values)\n",
        "    return dict(zip(self.lst_names, arr_prod))\n"
      ]
    },
    {
      "cell_type": "markdown",
      "metadata": {
        "id": "_QpfDyxht7Ob"
      },
      "source": [
        "# **Scalar multiplication/addition nodes**"
      ]
    },
    {
      "cell_type": "code",
      "execution_count": null,
      "metadata": {
        "id": "-0RqnZrStbyI"
      },
      "outputs": [],
      "source": [
        "class Add_Scalar: \n",
        "  \n",
        "  # A class to add a variable with a scalar\n",
        "  def __init__(self, lst_names, lst_values):\n",
        "    self.lst_names = lst_names # This numpy arr contains all the variable names that are to be added, with each variable name in datatype str.\n",
        "                               # This list must only have 2 elements, the first should be the string corresponding to the name of the variable, and the second should be a string of the scalar value to be added.\n",
        "    self.lst_values = lst_values # This numpy arr contains all the variable values that are to be added, as scalars.\n",
        "\n",
        "  def compute_output(self):\n",
        "    # Code to compute the output of this operation\n",
        "    return np.sum(self.lst_values)\n",
        "\n",
        "  def compute_gradients(self):\n",
        "    # Code to create a dictionary, storing all the gradients of the output wrt to each input (In this case there is only a single input that matters)\n",
        "    try:\n",
        "      int(self.lst_names[1])\n",
        "      return dict(zip(self.lst_names, [1, 0]))\n",
        "    except:\n",
        "      return dict(zip(self.lst_names, [0, 1]))\n",
        "\n",
        "\n",
        "class Multiply_Scalar: \n",
        "  \n",
        "  # A class to multiply a variable with a scalar\n",
        "  def __init__(self, lst_names, lst_values):\n",
        "    self.lst_names = lst_names # This numpy arr contains all the variable names that are to be multiplied, with each variable name in datatype str.\n",
        "                               # This list must only have 2 elements, the first should be the string corresponding to the name of the variable, and the second should be a string of the scalar value to be multiplied.\n",
        "    self.lst_values = lst_values # This numpy arr contains all the variable values that are to be multiplied, as scalars.\n",
        "\n",
        "  def compute_output(self):\n",
        "    # Code to compute the output of this operation\n",
        "    return np.prod(self.lst_values)\n",
        "\n",
        "  def compute_gradients(self):\n",
        "    # Code to create a dictionary, storing all the gradients of the output wrt to each input (In this case there is only a single input that matters)\n",
        "    try:\n",
        "      int(self.lst_names[1])\n",
        "      return dict(zip(self.lst_names, [self.lst_names[1], 0]))\n",
        "    except:\n",
        "      return dict(zip(self.lst_names, [0, self.lst_names[0]]))\n"
      ]
    },
    {
      "cell_type": "markdown",
      "metadata": {
        "id": "iF4EA5CLuKXR"
      },
      "source": [
        "# **Nodes for special functions**"
      ]
    },
    {
      "cell_type": "code",
      "execution_count": null,
      "metadata": {
        "id": "RzhhbukvRBD-"
      },
      "outputs": [],
      "source": [
        "class Power:\n",
        "\n",
        "  def __init__(self, name, value, exponent):\n",
        "    self.name = name # Name of the variable to be exponentiated\n",
        "    self.value = value # Value of the variable\n",
        "    self.exponent = exponent # Value of the exponent\n",
        "  \n",
        "  def compute_output(self):\n",
        "    return np.power(self.value, self.exponent)\n",
        "  \n",
        "  def compute_gradients(self):\n",
        "    return {self.name : self.exponent*(np.power(self.value, (self.exponent - 1)))}\n",
        "\n",
        "class Sine: \n",
        "\n",
        "  # A class to apply the sine function on a variable\n",
        "  def __init__(self, name, value):\n",
        "    self.name = name\n",
        "    self.value = value\n",
        "  \n",
        "  def compute_output(self):\n",
        "    return np.sin(self.value)\n",
        "  \n",
        "  def compute_gradients(self):\n",
        "    return {self.name : np.cos(self.value)}\n",
        "\n",
        "\n",
        "class Logarithm:\n",
        "\n",
        "  # A class to compute the logarithm of a value\n",
        "  def __init__(self, name, value):\n",
        "    self.name = name\n",
        "    self.value = value\n",
        "  \n",
        "  def compute_output(self):\n",
        "    return np.log(self.value)\n",
        "\n",
        "  def compute_gradients(self):\n",
        "    return {self.name : 1/(self.value)}\n",
        "\n",
        "class Exponential: \n",
        "\n",
        "  # A class to compute the exponential of a value\n",
        "  def __init__(self, name, value):\n",
        "    self.name = name\n",
        "    self.value = value\n",
        "  \n",
        "  def compute_output(self):\n",
        "    return np.exp(self.value)\n",
        "\n",
        "  def compute_gradients(self):\n",
        "    return {self.name : np.exp(self.value)}\n"
      ]
    },
    {
      "cell_type": "markdown",
      "metadata": {
        "id": "BsUmSRPKXau8"
      },
      "source": [
        "Now that we have these classes, let's use them to actually find gradients of complex networks. We finally bring in the idea of a computational graph, which makes it much easier for the gradients to be computed.\n",
        "\n",
        "This is the image of the example graph that we want you to work with. \n",
        "\n",
        "\n",
        "\n"
      ]
    },
    {
      "cell_type": "markdown",
      "metadata": {
        "id": "e2hDABSUr8Px"
      },
      "source": [
        "<div>\n",
        "<img src=\"https://drive.google.com/uc?id=1VtI1lf85bG8cO1u_8l0D0rqVGhwHQtPK\"\n",
        " width=\"500\" height=\"500\">\n",
        "</div>"
      ]
    },
    {
      "cell_type": "markdown",
      "metadata": {
        "id": "tPKf5T4lrjxY"
      },
      "source": [
        "\\begin{equation}\n",
        "d = 3a \\\\ \n",
        "e = abc \\\\ \n",
        "f = sin(c) \\\\ \n",
        "g = exp(e) \\\\ \n",
        "h = a + d + g + f\n",
        "\\end{equation}"
      ]
    },
    {
      "cell_type": "markdown",
      "metadata": {
        "id": "lnOQqmnlw7eN"
      },
      "source": [
        "# **Forward Propogation**"
      ]
    },
    {
      "cell_type": "code",
      "execution_count": null,
      "metadata": {
        "id": "GM2n6S4sw-r_"
      },
      "outputs": [],
      "source": [
        "def forward_prop(a, b, c) : \n",
        "    '''\n",
        "    Input : real numbers a, b, c.\n",
        "\n",
        "    Outputs : A dictionary of the values at each node with keys as the names of nodes\n",
        "    Grads : A dictionary of the gradients at each edge with keys as a pair of nodes \n",
        "    \n",
        "    e.g. Grads[\"ce\"] = ...\n",
        "    '''\n",
        "    # Output['e'] := e(a, b, c) = abc\n",
        "    # Declaring an empty Dictionary\n",
        "    Outputs = {}\n",
        "    Outputs['d'] = Multiply_Scalar(['3', 'a'], [3, a]).compute_output()\n",
        "    Outputs['e'] = Multiply(['a', 'b', 'c'], [a, b, c]).compute_output()\n",
        "    Outputs['f'] = Sine('c', c).compute_output()\n",
        "    Outputs['g'] = Exponential('e', Outputs['e']).compute_output()\n",
        "    Outputs['h'] = Add(['a', 'd', 'g', 'f'], [a, Outputs['d'], Outputs['g'], Outputs['f']]).compute_output()\n",
        "    \n",
        "    # Grads['ah'] := ∂h/∂a\n",
        "    # Declaring an empty Dictionary\n",
        "    Grads = {}\n",
        "    Grads['ad'] = Multiply_Scalar(['3', 'a'], [3, a]).compute_gradients()['a']\n",
        "    Grads['ae'] = Multiply(['a' , 'b', 'c'], [a, b, c]).compute_gradients()['a']\n",
        "    Grads['be'] = Multiply(['a' , 'b', 'c'], [a, b, c]).compute_gradients()['b']\n",
        "    Grads['ce'] = Multiply(['a' , 'b', 'c'], [a, b, c]).compute_gradients()['c']\n",
        "    Grads['cf'] = Sine('c', c).compute_gradients()['c']\n",
        "    Grads['eg'] = Exponential('e', Outputs['e']).compute_gradients()['e']\n",
        "    Grads['dh'] = Add(['a', 'd', 'g', 'f'], [a, Outputs['d'], Outputs['g'], Outputs['f']]).compute_gradients()['d']\n",
        "    Grads['fh'] = Add(['a', 'd', 'g', 'f'], [a, Outputs['d'], Outputs['g'], Outputs['f']]).compute_gradients()['f']\n",
        "    Grads['gh'] = Add(['a', 'd', 'g', 'f'], [a, Outputs['d'], Outputs['g'], Outputs['f']]).compute_gradients()['g']\n",
        "    \n",
        "    return (Outputs, Grads)\n"
      ]
    },
    {
      "cell_type": "markdown",
      "metadata": {
        "id": "ApNrGkHJxjMw"
      },
      "source": [
        "# **Backward Propogation**"
      ]
    },
    {
      "cell_type": "markdown",
      "metadata": {
        "id": "450-YOv8fqmR"
      },
      "source": [
        "Most of the usage of computational graphs in Machine Learning centers around finding the gradients of a particular loss, wrt to all the parameters. Here, your task is to do a simpler version of that.\n",
        "\n",
        "Use the classes you wrote to calculate the following gradients : \n",
        "\n",
        "\n",
        "*   $ \\frac{\\partial h}{\\partial a}$\n",
        "*   $ \\frac{\\partial h}{\\partial b}$\n",
        "*   $ \\frac{\\partial h}{\\partial c}$\n",
        "\n",
        "Use the technique of *backpropogation* to code out the gradients step-wise, along all possible chains of the graph starting from $h$ and ending at $a,b,c$ respectively. \n",
        "\n",
        "Don't try to directly get these values without backpropogation, it might be easier here, but with complicated neural networks it wouldn't be :) \n",
        "\n"
      ]
    },
    {
      "cell_type": "code",
      "execution_count": null,
      "metadata": {
        "id": "YwL98tWexpGy"
      },
      "outputs": [],
      "source": [
        "def backward_prop(a, b, c, Outputs, Grads) : \n",
        "    '''\n",
        "    Input : a, b, c (input layer); Outputs (values at each node); Grads (gradients stored at each edge)\n",
        "    Retuns : result (gradients w.r.t a, b, c)\n",
        "    '''\n",
        "    # Computing gradients using pre-calculated gradients and chain rule\n",
        "    Grads['ah'] = float(Grads['dh']+1)*float(Grads['ad'])\n",
        "    Grads['ch'] = Grads['gh']*Grads['eg']*Grads['ce'] + Grads['fh']*Grads['cf']\n",
        "    Grads['bh'] = Grads['gh']*Grads['eg']*Grads['be']\n",
        "\n",
        "    # returning a list with size 3\n",
        "    result = [Grads['ah'], Grads['bh'], Grads['ch']]\n",
        "    return result"
      ]
    },
    {
      "cell_type": "markdown",
      "metadata": {
        "id": "hOsnYr0lx_KT"
      },
      "source": [
        "# **Combining both processes**\n",
        "\n",
        "For the purpose of values, assume that $a = 3, b = 1, c = 2$. Here, we call both forward and backward propogation functions to demonstrate functionality of the functions above."
      ]
    },
    {
      "cell_type": "code",
      "execution_count": null,
      "metadata": {
        "id": "cn-KFyH4yWAJ"
      },
      "outputs": [],
      "source": [
        "# Initialisation\n",
        "a = 3\n",
        "b = 1\n",
        "c = 2\n",
        "\n",
        "# Forward propogation\n",
        "(Outputs, Grads) = forward_prop(a, b, c)\n",
        "\n",
        "print(f\"Value obtained upon forward propogation : { Outputs['h'] }\")\n",
        "\n",
        "# Backward propogation\n",
        "result = backward_prop(a, b, c, Outputs, Grads)\n",
        "print(f'Values of gradients are : {result[0]}, {result[1]}, {result[2]}')"
      ]
    }
  ],
  "metadata": {
    "colab": {
      "provenance": []
    },
    "kernelspec": {
      "display_name": "Python 3",
      "language": "python",
      "name": "python3"
    },
    "language_info": {
      "name": "python",
      "version": "3.10.9 (tags/v3.10.9:1dd9be6, Dec  6 2022, 20:01:21) [MSC v.1934 64 bit (AMD64)]"
    },
    "vscode": {
      "interpreter": {
        "hash": "ea94815bafe94137b35352c49355785adc7d585b397f5cf9c003fa847827c1d4"
      }
    }
  },
  "nbformat": 4,
  "nbformat_minor": 0
}
